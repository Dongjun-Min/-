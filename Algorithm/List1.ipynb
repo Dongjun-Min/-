{
 "cells": [
  {
   "cell_type": "markdown",
   "metadata": {},
   "source": [
    "# 4828. min max\n",
    "N개의 양의 정수에서 가장 큰 수와 가장 작은 수의 차이를 출력하시오."
   ]
  },
  {
   "cell_type": "code",
   "execution_count": 1,
   "metadata": {},
   "outputs": [
    {
     "name": "stdout",
     "output_type": "stream",
     "text": [
      "1\n",
      "5\n",
      "477162 658880 751280 927930 297191\n",
      "#1 630739\n"
     ]
    }
   ],
   "source": [
    "T = int(input())\n",
    "# 여러개의 테스트 케이스가 주어지므로, 각각을 처리합니다.\n",
    "for test_case in range(1, T + 1):\n",
    "    # ///////////////////////////////////////////////////////////////////////////////////\n",
    "    N=int(input())\n",
    "    num_list=list(map(int, input().split()))\n",
    "    \n",
    "    num_list.sort()\n",
    "    result=num_list[N-1]-num_list[0]\n",
    "    \n",
    "    print(f\"#{test_case} {result}\")\n",
    "\t\n",
    "    # ///////////////////////////////////////////////////////////////////////////////////\n"
   ]
  },
  {
   "cell_type": "markdown",
   "metadata": {},
   "source": [
    "# 4831. 전기버스\n",
    "A도시는 전기버스를 운행하려고 한다. 전기버스는 한번 충전으로 이동할 수 있는 정류장 수가 정해져 있어서, 중간에 충전기가 설치된 정류장을 만들기로 했다.\n",
    "\n",
    "버스는 0번에서 출발해 종점인 N번 정류장까지 이동하고, 한번 충전으로 최대한 이동할 수 있는 정류장 수 K가 정해져 있다.\n",
    "\n",
    "충전기가 설치된 M개의 정류장 번호가 주어질 때, 최소한 몇 번의 충전을 해야 종점에 도착할 수 있는지 출력하는 프로그램을 만드시오.\n",
    "\n",
    "만약 충전기 설치가 잘못되어 종점에 도착할 수 없는 경우는 0을 출력한다. 출발지에는 항상 충전기가 설치되어 있지만 충전횟수에는 포함하지 않는다."
   ]
  },
  {
   "cell_type": "code",
   "execution_count": 2,
   "metadata": {},
   "outputs": [
    {
     "name": "stdout",
     "output_type": "stream",
     "text": [
      "1\n",
      "3 10 5\n",
      "1 3 5 7 9\n",
      "#1 3 \n"
     ]
    }
   ],
   "source": [
    "T = int(input())\n",
    "for test_case in range(1, T+1) :\n",
    "    K, N, M=map(int, input().split())\n",
    "    B = list(map(int, input().split()))\n",
    "    B.append(N-1)\n",
    "    L=[0]*(N+1)\n",
    "    for i in B :\n",
    "        L[i-1]=1\n",
    "\n",
    "    fuel = K \n",
    "    count = 0\n",
    "    for i in range(0,len(L)) :\n",
    "        if fuel < 0 :\n",
    "            count=0\n",
    "            break\n",
    "        elif L[i] == 0 :\n",
    "            # 정류장이 없으면 연료 줄이고 pass\n",
    "            fuel = fuel-1\n",
    "\n",
    "            pass\n",
    "        else :\n",
    "            # 정류장이면\n",
    "            for r in range(1,K+1) :\n",
    "                # 다음 정류장과 비교하기 위해\n",
    "                if i < len(L) -r :\n",
    "                    if L[i+r]-L[i] == 0 : # 같은 값을 갖는 다음 인덱스 찾아내서\n",
    "                        if fuel > r :     # 연료양과 인덱스 차이(거리) 비교\n",
    "                            fuel=fuel-1\n",
    "\n",
    "                        else :\n",
    "                            count = count+1\n",
    "                            fuel=K\n",
    "\n",
    "                            break\n",
    "                else: \n",
    "\n",
    "                    fuel-=1\n",
    "                    break        \n",
    "    print(f\"#{test_case}\", count, end=\" \")\n",
    "    print(end=\"\\n\")"
   ]
  },
  {
   "cell_type": "markdown",
   "metadata": {},
   "source": [
    "# 4834. 숫자 카드\n",
    "\n",
    "0에서 9까지 숫자가 적힌 N장의 카드가 주어진다.\n",
    "\n",
    "가장 많은 카드에 적힌 숫자와 카드가 몇 장인지 출력하는 프로그램을 만드시오. 카드 장수가 같을 때는 적힌 숫자가 큰 쪽을 출력한다."
   ]
  },
  {
   "cell_type": "code",
   "execution_count": 3,
   "metadata": {},
   "outputs": [
    {
     "name": "stdout",
     "output_type": "stream",
     "text": [
      "1\n",
      "5\n",
      "49679\n",
      "#1 9 2\n"
     ]
    }
   ],
   "source": [
    "\n",
    "T = int(input())\n",
    "# 여러개의 테스트 케이스가 주어지므로, 각각을 처리합니다.\n",
    "for test_case in range(1, T + 1):\n",
    "    # ///////////////////////////////////////////////////////////////////////////////////\n",
    "        a = int(input())\n",
    "        b = input()\n",
    "        b1=[0]*a\n",
    "        c=[]\n",
    "\n",
    "        for i in range(a):\n",
    "            b1[i]=int(b[i])\n",
    "\n",
    "        for item in b:\n",
    "            c.append(b.count(item))\n",
    "        max=c[0]\n",
    "\n",
    "        for item in c:\n",
    "            if max<item:\n",
    "                max=item\n",
    "        if max==1:\n",
    "            b1.sort()\n",
    "            result=b1[-1]\n",
    "        else:\n",
    "            c.index(max)\n",
    "            result=b[c.index(max)]\n",
    "\n",
    "\n",
    "\n",
    "        print(f\"#{test_case} {result} {max}\")\n",
    "                \n",
    "      \n",
    "        \n",
    "            \n",
    "    # ///////////////////////////////////////////////////////////////////////////////////\n"
   ]
  },
  {
   "cell_type": "markdown",
   "metadata": {},
   "source": [
    "# 4835. 구간합\n",
    "N개의 정수가 들어있는 배열에서 이웃한 M개의 합을 계산하는 것은 디지털 필터링의 기초연산이다.\n",
    "\n",
    "M개의 합이 가장 큰 경우와 가장 작은 경우의 차이를 출력하는 프로그램을 작성하시오.\n",
    " \n",
    "\n",
    "다음은 N=5, M=3이고 5개의 숫자 1 2 3 4 5가 배열 v에 들어있는 경우이다.\n",
    "\n",
    "이웃한 M개의 합이 가장 작은 경우 1 + 2 + 3 = 6\n",
    "\n",
    "이웃한 M개의 합이 가장 큰 경우 3 + 4 + 5 = 12\n",
    " \n",
    "답은 12와 6의 차인 6을 출력한다.\n"
   ]
  },
  {
   "cell_type": "code",
   "execution_count": 4,
   "metadata": {},
   "outputs": [
    {
     "name": "stdout",
     "output_type": "stream",
     "text": [
      "1\n",
      "10 3\n",
      "1 2 3 4 5 6 7 8 9 10\n",
      "#1 21\n"
     ]
    }
   ],
   "source": [
    "\n",
    "\n",
    "T = int(input())\n",
    "# 여러개의 테스트 케이스가 주어지므로, 각각을 처리합니다.\n",
    "for test_case in range(1, T + 1):\n",
    "    # ///////////////////////////////////////////////////////////////////////////////////\n",
    "    n,m = map(int, input().split())\n",
    "    num_list=list(map(int, input().split()))\n",
    "    result_list=[]\n",
    "\n",
    "    for i in range(n-m+1):\n",
    "        sum=0\n",
    "        for j in range(m):\n",
    "            sum+=num_list[i+j]\n",
    "        result_list.append(sum)\n",
    "\n",
    "    result_list.sort()\n",
    "    result=result_list[-1]-result_list[0]\n",
    "\n",
    "    print(f\"#{test_case} {result}\")\n",
    "    \n",
    "    \n",
    "    # ///////////////////////////////////////////////////////////////////////////////////\n"
   ]
  },
  {
   "cell_type": "code",
   "execution_count": null,
   "metadata": {},
   "outputs": [],
   "source": []
  }
 ],
 "metadata": {
  "kernelspec": {
   "display_name": "Python 3",
   "language": "python",
   "name": "python3"
  },
  "language_info": {
   "codemirror_mode": {
    "name": "ipython",
    "version": 3
   },
   "file_extension": ".py",
   "mimetype": "text/x-python",
   "name": "python",
   "nbconvert_exporter": "python",
   "pygments_lexer": "ipython3",
   "version": "3.7.4"
  },
  "toc": {
   "base_numbering": 1,
   "nav_menu": {},
   "number_sections": true,
   "sideBar": true,
   "skip_h1_title": false,
   "title_cell": "Table of Contents",
   "title_sidebar": "Contents",
   "toc_cell": false,
   "toc_position": {},
   "toc_section_display": true,
   "toc_window_display": false
  },
  "varInspector": {
   "cols": {
    "lenName": 16,
    "lenType": 16,
    "lenVar": 40
   },
   "kernels_config": {
    "python": {
     "delete_cmd_postfix": "",
     "delete_cmd_prefix": "del ",
     "library": "var_list.py",
     "varRefreshCmd": "print(var_dic_list())"
    },
    "r": {
     "delete_cmd_postfix": ") ",
     "delete_cmd_prefix": "rm(",
     "library": "var_list.r",
     "varRefreshCmd": "cat(var_dic_list()) "
    }
   },
   "types_to_exclude": [
    "module",
    "function",
    "builtin_function_or_method",
    "instance",
    "_Feature"
   ],
   "window_display": false
  }
 },
 "nbformat": 4,
 "nbformat_minor": 2
}
