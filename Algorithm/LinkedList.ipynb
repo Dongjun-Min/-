{
 "cells": [
  {
   "cell_type": "markdown",
   "metadata": {},
   "source": [
    "# 5108. 숫자추가\n",
    "N개의 10억 이하 자연수로 이뤄진 수열이 주어진다.\n",
    "\n",
    "이 수열은 완성된 것이 아니라 M개의 숫자를 지정된 위치에 추가하면 완성된다고 한다.\n",
    "\n",
    "완성된 수열에서 인덱스 L의 데이터를 출력하는 프로그램을 작성하시오.\n",
    "\n",
    "다음은 숫자를 추가하는 예이다."
   ]
  },
  {
   "cell_type": "code",
   "execution_count": 1,
   "metadata": {},
   "outputs": [
    {
     "name": "stdout",
     "output_type": "stream",
     "text": [
      "1\n",
      "5 2 5\n",
      "1 2 3 4 5\n",
      "2 7\n",
      "4 8\n",
      "#1 4\n"
     ]
    }
   ],
   "source": [
    "T = int(input())\n",
    "# 여러개의 테스트 케이스가 주어지므로, 각각을 처리합니다.\n",
    "for test_case in range(1, T + 1):\n",
    "    m_list=[]\n",
    "    n,m,k = map(int,input().split())\n",
    "    l = list(map(int, input().split()))\n",
    "    for i in range(m):\n",
    "        m_list.append(list(map(int, input().split())))\n",
    "    for i in m_list:\n",
    "        l=l[:i[0]]+[i[1]]+l[i[0]:]\n",
    "        \n",
    "    print(f\"#{test_case} {l[k]}\")"
   ]
  },
  {
   "cell_type": "markdown",
   "metadata": {},
   "source": [
    "# 5110. 수열 합치기\n",
    "여러 개의 수열을 정해진 규칙에 따라 합치려고 한다. 다음은 3개의 수열이 주어진 경우의 예이다.   \n",
    "수열1   \n",
    "2 3 4 5   \n",
    "수열2   \n",
    "4 8 7 6   \n",
    "수열3   \n",
    "9 10 15 16   \n",
    "수열 4   \n",
    "1 2 6 5   \n",
    "수열 2의 첫 숫자 보다 큰 수자를 수열 1에서 찾아 그 앞에 수열 2를 끼워 넣는다\n",
    "합쳐진 수열에 대해, 수열 3의 첫 숫자보다 큰 숫자를 찾아 그 앞에 수열 3을 끼워 넣는다. 큰 숫자가 없는 경우 맨 뒤에 붙인다.\n",
    "마지막 수열까지 합치고 나면, 맨 뒤의 숫자부터 역순으로 10개를 출력한다."
   ]
  },
  {
   "cell_type": "code",
   "execution_count": 2,
   "metadata": {},
   "outputs": [
    {
     "name": "stdout",
     "output_type": "stream",
     "text": [
      "1\n",
      "4 4\n",
      "2 3 4 5\n",
      "4 8 7 6\n",
      "9 10 15 16\n",
      "1 2 6 5\n",
      "#1 16 15 10 9 5 6 7 8 4 4 \n"
     ]
    }
   ],
   "source": [
    "T = int(input())\n",
    "for test_case in range(1,T+1):\n",
    "    L = []\n",
    "    n,m = map(int,input().split())\n",
    "    for i in range(m):\n",
    "        L.append(list(map(int,input().split())))\n",
    "\n",
    "    result = []\n",
    "    for l in L:\n",
    "        flag = len(result)\n",
    "        for i in result:\n",
    "            if l[0] < i:\n",
    "                flag = result.index(i)\n",
    "                break\n",
    "        result = result[:flag]+l+result[flag:]\n",
    "        if len(result)>10:\n",
    "            result=[max(result[:-10])]+result[-10:]\n",
    "    print(f\"#{test_case}\",end=' ')\n",
    "    for i in range(1,11):\n",
    "        print(result[-i],end=' ')\n",
    "    print()"
   ]
  },
  {
   "cell_type": "markdown",
   "metadata": {},
   "source": [
    "# 5120. 암호\n",
    "A사는 창립기념일 이벤트로 비밀번호 맞추기 대회를 열어, 최대 10개인 비밀번호를 맞추는 사람에게 기념품을 제공하기로 했다.\n",
    "\n",
    "기념품을 받을 수 있도록 다음 조건에 맞는 비밀번호 찾기 프로그램을 작성하시오.\n",
    " \n",
    "\n",
    "- 1000이하의 숫자 N개가 주어진다. 이때 시작 숫자가 정해지고, 첫 번째 지정 위치가 된다.\n",
    "\n",
    "- 지정 위치부터 M번째 칸을 추가한다. 여기에 앞칸의 숫자와 뒤로 밀려난 칸의 숫자를 더해 넣는다. 추가된 칸이 새로운 지정 위치가 된다. 밀려난 칸이 없으면 시작 숫자와 더한다.\n",
    "\n",
    "- 이 작업을 K회 반복하는데, M칸 전에 마지막 숫자에 이르면 남은 칸수는 시작 숫자부터 이어간다.\n",
    "\n",
    "- 마지막 숫자부터 역순으로 숫자를 출력하면 비밀번호가 된다. 숫자가 10개 이상인 경우 10개까지만 출력한다.\n"
   ]
  },
  {
   "cell_type": "code",
   "execution_count": 3,
   "metadata": {},
   "outputs": [
    {
     "name": "stdout",
     "output_type": "stream",
     "text": [
      "1\n",
      "6 3 3\n",
      "6 2 4 9 1 5\n",
      "#1 5 6 1 9 13 4 2 8 6 \n"
     ]
    }
   ],
   "source": [
    "T = int(input())\n",
    "# 여러개의 테스트 케이스가 주어지므로, 각각을 처리합니다.\n",
    "for test_case in range(1, T + 1):\n",
    "    n, k, m = map(int,input().split())\n",
    "    l = list(map(int,input().split()))\n",
    "    flag=0\n",
    "    for i in range(m):\n",
    "        flag+=k\n",
    "        flag=flag%len(l)\n",
    "        if flag==0:\n",
    "            l.append(l[0]+l[-1])\n",
    "            flag-=1\n",
    "        else:\n",
    "            l.insert(flag,l[flag-1]+l[flag])\n",
    "    if len(l)>10:\n",
    "        print(f\"#{test_case}\",end=' ')\n",
    "        for i in range(1,11):\n",
    "            print(l[-i],end=' ')\n",
    "        print()\n",
    "    else:\n",
    "        print(f\"#{test_case}\",end=' ')\n",
    "        for i in range(1,len(l)+1):\n",
    "            print(l[-i],end=' ')\n",
    "        print()\n",
    "            "
   ]
  },
  {
   "cell_type": "markdown",
   "metadata": {},
   "source": [
    "# 5122. 수열 편집\n",
    "N개의 10억 이하 자연수로 이뤄진 수열이 주어진다. 이 수열은 완성된 것이 아니라 M번의 편집을 거쳐 완성된다고 한다.\n",
    "\n",
    "완성된 수열에서 인덱스 L의 데이터를 출력하는 프로그램을 작성하시오.\n",
    "\n",
    "다음은 미완성 수열과 편집의 예이다.   \n",
    "- I 2 7 -> 2번 인덱스 앞에 7을 추가하고, 한 칸 씩 뒤로 이동한다.   \n",
    "- D 4 -> 4번 인덱스 자리를 지우고, 한 칸 씩 앞으로 이동한다.\n",
    "- C 3 8 -> 3번 인덱스 자리를 8로 바꾼다.\n",
    "- 만약 편집이 끝난 후 L이 존재하지 않으면 -1을 출력한다."
   ]
  },
  {
   "cell_type": "code",
   "execution_count": 4,
   "metadata": {},
   "outputs": [
    {
     "name": "stdout",
     "output_type": "stream",
     "text": [
      "1\n",
      "5 3 4\n",
      "1 2 3 4 5\n",
      "I 2 7\n",
      "D 4\n",
      "C 3 8\n",
      "#1 5\n"
     ]
    }
   ],
   "source": [
    "def work(c,*arg):\n",
    "    global L\n",
    "    if c=='I':\n",
    "        L.insert(int(arg[0]),int(arg[1]))\n",
    "    elif c=='D':\n",
    "        L.remove(L[int(arg[0])])\n",
    "    elif c=='C':\n",
    "        L[int(arg[0])]=int(arg[1])\n",
    "\n",
    "\n",
    "T = int(input())\n",
    "# 여러개의 테스트 케이스가 주어지므로, 각각을 처리합니다.\n",
    "for test_case in range(1, T + 1):\n",
    "    work_list=[]\n",
    "    n, m, ind = map(int,input().split())\n",
    "    L = list(map(int,input().split()))\n",
    "    for i in range(m):\n",
    "        work_list.append(list(map(str,input().split())))\n",
    "    \n",
    "    for i in work_list:\n",
    "        work(i[0],*i[1:])\n",
    "    if len(L)>ind:\n",
    "        print(f\"#{test_case} {L[ind]}\")\n",
    "    else:\n",
    "        print(f\"#{test_case} -1\")\n",
    "    "
   ]
  },
  {
   "cell_type": "code",
   "execution_count": null,
   "metadata": {},
   "outputs": [],
   "source": []
  }
 ],
 "metadata": {
  "kernelspec": {
   "display_name": "Python 3",
   "language": "python",
   "name": "python3"
  },
  "language_info": {
   "codemirror_mode": {
    "name": "ipython",
    "version": 3
   },
   "file_extension": ".py",
   "mimetype": "text/x-python",
   "name": "python",
   "nbconvert_exporter": "python",
   "pygments_lexer": "ipython3",
   "version": "3.7.4"
  },
  "toc": {
   "base_numbering": 1,
   "nav_menu": {},
   "number_sections": true,
   "sideBar": true,
   "skip_h1_title": false,
   "title_cell": "Table of Contents",
   "title_sidebar": "Contents",
   "toc_cell": false,
   "toc_position": {},
   "toc_section_display": true,
   "toc_window_display": false
  },
  "varInspector": {
   "cols": {
    "lenName": 16,
    "lenType": 16,
    "lenVar": 40
   },
   "kernels_config": {
    "python": {
     "delete_cmd_postfix": "",
     "delete_cmd_prefix": "del ",
     "library": "var_list.py",
     "varRefreshCmd": "print(var_dic_list())"
    },
    "r": {
     "delete_cmd_postfix": ") ",
     "delete_cmd_prefix": "rm(",
     "library": "var_list.r",
     "varRefreshCmd": "cat(var_dic_list()) "
    }
   },
   "types_to_exclude": [
    "module",
    "function",
    "builtin_function_or_method",
    "instance",
    "_Feature"
   ],
   "window_display": false
  }
 },
 "nbformat": 4,
 "nbformat_minor": 2
}
