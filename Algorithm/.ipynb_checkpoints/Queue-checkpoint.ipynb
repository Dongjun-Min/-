{
 "cells": [
  {
   "cell_type": "markdown",
   "metadata": {},
   "source": [
    "# 5097. 회전\n",
    "N개의 숫자로 이루어진 수열이 주어진다. 맨 앞의 숫자를 맨 뒤로 보내는 작업을 M번 했을 때, 수열의 맨 앞에 있는 숫자를 출력하는 프로그램을 만드시오."
   ]
  },
  {
   "cell_type": "code",
   "execution_count": 1,
   "metadata": {},
   "outputs": [
    {
     "name": "stdout",
     "output_type": "stream",
     "text": [
      "1\n",
      "3 10\n",
      "5527 731 31274\n",
      "#1 731\n"
     ]
    }
   ],
   "source": [
    "\n",
    "\n",
    "T = int(input())\n",
    "# 여러개의 테스트 케이스가 주어지므로, 각각을 처리합니다.\n",
    "for test_case in range(1, T + 1):\n",
    "    # ///////////////////////////////////////////////////////////////////////////////////\n",
    "        n,m = map(int, input().split())\n",
    "        num_list = list(map(int, input().split()))\n",
    "        tag=m%n\n",
    "        print(f\"#{test_case} {num_list[tag]}\")\n",
    "    # ///////////////////////////////////////////////////////////////////////////////////\n"
   ]
  },
  {
   "cell_type": "markdown",
   "metadata": {},
   "source": [
    "# 5105. 미로의 거리\n",
    "NxN 크기의 미로에서 출발지 목적지가 주어진다.\n",
    "\n",
    "이때 최소 몇 개의 칸을 지나면 출발지에서 도착지에 다다를 수 있는지 알아내는 프로그램을 작성하시오.\n",
    "\n",
    "경로가 있는 경우 출발에서 도착까지 가는데 지나야 하는 최소한의 칸 수를, 경로가 없는 경우 0을 출력한다.\n",
    "\n",
    "다음은 5x5 미로의 예이다. 1은 벽, 0은 통로를 나타내며 미로 밖으로 벗어나서는 안된다.\n",
    "\n",
    "13101\n",
    "10101\n",
    "10101\n",
    "10101\n",
    "10021\n",
    "\n",
    "마지막 줄의 2에서 출발해서 0인 통로를 따라 이동하면 맨 윗줄의 3에 5개의 칸을 지나 도착할 수 있다."
   ]
  },
  {
   "cell_type": "code",
   "execution_count": 2,
   "metadata": {},
   "outputs": [
    {
     "name": "stdout",
     "output_type": "stream",
     "text": [
      "1\n",
      "5\n",
      "13101\n",
      "10101\n",
      "10101\n",
      "10101\n",
      "10021\n",
      "#1 5\n"
     ]
    }
   ],
   "source": [
    "direction=[[1,0],[0,1],[-1,0],[0,-1]]\n",
    "\n",
    "def find_2(L):\n",
    "    for i,item in enumerate(L):\n",
    "        for j,jtem in enumerate(item):\n",
    "            if jtem==2:\n",
    "                return [i,j]\n",
    "            \n",
    "def move(L,result):\n",
    "    flag=0\n",
    "    global result_list\n",
    "    for i in direction:\n",
    "        t_L=copy2(L)\n",
    "        loc=find_2(t_L)\n",
    "        new_loc=[loc[0]+i[0],loc[1]+i[1]]\n",
    "        if (0<=new_loc[0]<n)&(0<=new_loc[1]<n):\n",
    "            if t_L[new_loc[0]][new_loc[1]]==1:\n",
    "                flag+=1\n",
    "            elif t_L[new_loc[0]][new_loc[1]]==0:\n",
    "                t_L[new_loc[0]][new_loc[1]]=2\n",
    "                t_L[loc[0]][loc[1]]=1\n",
    "                result+=1\n",
    "                result=move(t_L,result)\n",
    "#                 if result!=0:\n",
    "#                     result_list.append(result)\n",
    "                    \n",
    "\n",
    "            elif t_L[new_loc[0]][new_loc[1]]==3:\n",
    "                result_list.append(result)\n",
    "                \n",
    "                break\n",
    "        else:\n",
    "            flag+=1\n",
    "    result-=1\n",
    "        \n",
    "    return result\n",
    "\n",
    "def copy2(L):\n",
    "    new_L=[]\n",
    "    for i in L:\n",
    "        new_L.append(i.copy())\n",
    "    return new_L\n",
    "def new_L(L):\n",
    "    k=[]\n",
    "    for i in L:\n",
    "        tk=[]\n",
    "        for j in range(len(i)):\n",
    "            tk.append(int(i[j]))\n",
    "        k.append(tk)\n",
    "        \n",
    "    return k\n",
    "\n",
    "T = int(input())\n",
    "# 여러개의 테스트 케이스가 주어지므로, 각각을 처리합니다.\n",
    "for test_case in range(1, T + 1):\n",
    "    L=[]\n",
    "    result_list=[]\n",
    "    n=int(input())\n",
    "    for i in range(n):\n",
    "        L.append(input())\n",
    "    L=new_L(L)\n",
    "    move(L,0)\n",
    "    if len(result_list)==0:\n",
    "        r=0\n",
    "    else:\n",
    "        r=min(result_list)\n",
    "    print(f\"#{test_case} {r}\")\n"
   ]
  },
  {
   "cell_type": "markdown",
   "metadata": {},
   "source": [
    "# 5099. 피자굽기\n",
    "N개의 피자를 동시에 구울 수 있는 화덕이 있다. 피자는 치즈가 모두 녹으면 화덕에서 꺼내며, 치즈의 양은 피자마다 다르다.\n",
    "\n",
    "1번부터 M번까지 M개의 피자를 순서대로 화덕에 넣을 때, 치즈의 양에 따라 녹는 시간이 다르기 때문에 꺼내지는 순서는 바뀔 수 있다.\n",
    "\n",
    "주어진 조건에 따라 피자를 구울 때, 화덕에 가장 마지막까지 남아있는 피자 번호를 알아내는 프로그램을 작성하시오.\n",
    "- 피자는 1번위치에서 넣거나 뺄 수 있다.\n",
    "- 화덕 내부의 피자받침은 천천히 회전해서 1번에서 잠시 꺼내 치즈를 확인하고 다시 같은 자리에 넣을 수 있다.\n",
    "- M개의 피자에 처음 뿌려진 치즈의 양이 주어지고, 화덕을 한 바퀴 돌 때 녹지않은 치즈의 양은 반으로 줄어든다. 이전 치즈의 양을 C라고 하면 다시 꺼냈을 때 C//2로 줄어든다.\n",
    "- 치즈가 모두 녹아 0이 되면 화덕에서 꺼내고, 바로 그 자리에 남은 피자를 순서대로 넣는다."
   ]
  },
  {
   "cell_type": "code",
   "execution_count": 3,
   "metadata": {},
   "outputs": [
    {
     "name": "stdout",
     "output_type": "stream",
     "text": [
      "1\n",
      "3 5\n",
      "7 2 6 5 3\n",
      "#1 4\n"
     ]
    }
   ],
   "source": [
    "\n",
    "\n",
    "T = int(input())\n",
    "# 여러개의 테스트 케이스가 주어지므로, 각각을 처리합니다.\n",
    "for test_case in range(1, T + 1):\n",
    "    m,n = map(int,input().split())\n",
    "    x=list(map(int,input().split()))\n",
    "    for i,item in enumerate(x):\n",
    "        x[i]=[i+1,item]\n",
    "    a=[]\n",
    "    c=x\n",
    "\n",
    "    for i in range(m):\n",
    "        a.append(c.pop(0))\n",
    "\n",
    "    while len(a)>1:\n",
    "        plist=[]\n",
    "        for i, item in enumerate(a):\n",
    "            item[1]=item[1]//2\n",
    "            if item[1]==0:\n",
    "                plist.append(i)\n",
    "        k=0\n",
    "        if len(plist)==0:\n",
    "            pass\n",
    "        else:\n",
    "            for i in plist:\n",
    "                if len(a)>1:\n",
    "                    if len(c)==0:\n",
    "                        a.pop(i-k)\n",
    "                        k+=1\n",
    "                    else:\n",
    "                        a[i]=c.pop(0)\n",
    "\n",
    "    print(f\"#{test_case} {a[0][0]}\")    \n",
    "\n",
    "    "
   ]
  },
  {
   "cell_type": "markdown",
   "metadata": {},
   "source": [
    "# 5102. 노드의 거리\n",
    "V개의 노드 개수와 방향성이 없는 E개의 간선 정보가 주어진다.\n",
    "\n",
    "주어진 출발 노드에서 최소 몇 개의 간선을 지나면 도착 노드에 갈 수 있는지 알아내는 프로그램을 만드시오.\n",
    "\n",
    "예를 들어 다음과 같은 그래프에서 1에서 6으로 가는 경우, 두 개의 간선을 지나면 되므로 2를 출력한다.\n",
    "\n",
    "노드 번호는 1번부터 존재하며, 노드 중에는 간선으로 연결되지 않은 경우도 있을 수 있다."
   ]
  },
  {
   "cell_type": "code",
   "execution_count": 4,
   "metadata": {},
   "outputs": [
    {
     "name": "stdout",
     "output_type": "stream",
     "text": [
      "1\n",
      "6 5\n",
      "1 4\n",
      "1 3\n",
      "2 3\n",
      "2 5\n",
      "4 6\n",
      "1 6\n",
      "#1 2\n"
     ]
    }
   ],
   "source": [
    "def make_route(start,L,move_list):\n",
    "    global target, result_list\n",
    "    t_list=[]\n",
    "    for i in L:\n",
    "        if move_list.count(i[1])>0:\n",
    "            pass\n",
    "        elif i[0]==start:\n",
    "            t_list.append(i)   \n",
    "    for i in t_list:\n",
    "        temp = L.copy()\n",
    "        if i[0]==start:\n",
    "            if i[1]==target:\n",
    "                temp.remove(i)\n",
    "                temp.remove((i[1],i[0]))\n",
    "                result_list.append(len(temp))\n",
    "                break\n",
    "            else:\n",
    "                \n",
    "                temp.remove(i)\n",
    "                temp.remove((i[1],i[0]))\n",
    "                move_list.append(i[1])\n",
    "                x = make_route(i[1],temp,move_list)\n",
    "\n",
    "T = int(input())\n",
    "for test_case in range(1,T+1):\n",
    "    L=[]\n",
    "    result_list = []\n",
    "    n, m = map(int,input().split())\n",
    "    \n",
    "    for i in range(m):\n",
    "        L.append(tuple(map(int,input().split())))\n",
    "    start, target = map(int,input().split())\n",
    "\n",
    "    L2 = list([(i[1],i[0]) for i in L])\n",
    "    L=L+L2\n",
    "\n",
    "    make_route(start,L,[start])\n",
    "    if len(result_list)==0:\n",
    "        print(f\"#{test_case} 0\")\n",
    "    else:\n",
    "        result = len(L)-max(result_list)\n",
    "        print(f\"#{test_case} {int(result/2)}\")"
   ]
  },
  {
   "cell_type": "code",
   "execution_count": null,
   "metadata": {},
   "outputs": [],
   "source": []
  }
 ],
 "metadata": {
  "kernelspec": {
   "display_name": "Python 3",
   "language": "python",
   "name": "python3"
  },
  "language_info": {
   "codemirror_mode": {
    "name": "ipython",
    "version": 3
   },
   "file_extension": ".py",
   "mimetype": "text/x-python",
   "name": "python",
   "nbconvert_exporter": "python",
   "pygments_lexer": "ipython3",
   "version": "3.7.4"
  },
  "toc": {
   "base_numbering": 1,
   "nav_menu": {},
   "number_sections": true,
   "sideBar": true,
   "skip_h1_title": false,
   "title_cell": "Table of Contents",
   "title_sidebar": "Contents",
   "toc_cell": false,
   "toc_position": {},
   "toc_section_display": true,
   "toc_window_display": false
  },
  "varInspector": {
   "cols": {
    "lenName": 16,
    "lenType": 16,
    "lenVar": 40
   },
   "kernels_config": {
    "python": {
     "delete_cmd_postfix": "",
     "delete_cmd_prefix": "del ",
     "library": "var_list.py",
     "varRefreshCmd": "print(var_dic_list())"
    },
    "r": {
     "delete_cmd_postfix": ") ",
     "delete_cmd_prefix": "rm(",
     "library": "var_list.r",
     "varRefreshCmd": "cat(var_dic_list()) "
    }
   },
   "types_to_exclude": [
    "module",
    "function",
    "builtin_function_or_method",
    "instance",
    "_Feature"
   ],
   "window_display": false
  }
 },
 "nbformat": 4,
 "nbformat_minor": 2
}
