{
 "cells": [
  {
   "cell_type": "markdown",
   "metadata": {},
   "source": [
    "# 4836. 색칠하기\n",
    "그림과 같이 인덱스가 있는 10x10 격자에 빨간색과 파란색을 칠하려고 한다.\n",
    "\n",
    "N개의 영역에 대해 왼쪽 위와 오른쪽 아래 모서리 인덱스, 칠할 색상이 주어질 때, 칠이 끝난 후 색이 겹쳐 보라색이 된 칸 수를 구하는 프로그램을 만드시오.\n",
    "\n",
    "주어진 정보에서 같은 색인 영역은 겹치지 않는다.\n",
    "예를 들어 2개의 색칠 영역을 갖는 위 그림에 대한 색칠 정보이다.\n",
    "\n",
    "2\n",
    "\n",
    "2 2 4 4 1  ( [2,2] 부터 [4,4] 까지 color 1 (빨강) 으로 칠한다 )\n",
    "\n",
    "3 3 6 6 2 ( [3,3] 부터 [6,6] 까지 color 2 (파랑) 으로 칠한다 )\n"
   ]
  },
  {
   "cell_type": "code",
   "execution_count": 1,
   "metadata": {},
   "outputs": [
    {
     "name": "stdout",
     "output_type": "stream",
     "text": [
      "1\n",
      "2\n",
      "2 2 4 4 1\n",
      "3 3 6 6 2\n",
      "#1 4\n"
     ]
    }
   ],
   "source": [
    "\n",
    "T = int(input())\n",
    "# 여러개의 테스트 케이스가 주어지므로, 각각을 처리합니다.\n",
    "for test_case in range(1, T + 1):\n",
    "    # ///////////////////////////////////////////////////////////////////////////////////\n",
    "\t   \n",
    "    n = int(input())\n",
    "    matrix_list=[]\n",
    "    for i in range(n):\n",
    "        l=list(map(int, input().split()))\n",
    "        matrix_list.append(l)\n",
    "    blue_list=[]\n",
    "    red_list=[]\n",
    "\n",
    "    for i in matrix_list:\n",
    "        if i[-1]==1:\n",
    "            red_list.append([[i[0],i[2]],[i[1],i[3]]])\n",
    "        elif i[-1]==2:\n",
    "            blue_list.append([[i[0],i[2]],[i[1],i[3]]])\n",
    "    result=0\n",
    "    for blue_m in blue_list:\n",
    "        for red_m in red_list:\n",
    "            blue_x=set(range(blue_m[0][0],blue_m[0][1]+1))\n",
    "            blue_y=set(range(blue_m[1][0],blue_m[1][1]+1))\n",
    "            red_x=set(range(red_m[0][0],red_m[0][1]+1))\n",
    "            red_y=set(range(red_m[1][0],red_m[1][1]+1))\n",
    "            result+=len(blue_x&red_x)*len(blue_y&red_y)\n",
    "    print(f\"#{test_case} {result}\")\n",
    "    # ///////////////////////////////////////////////////////////////////////////////////\n"
   ]
  },
  {
   "cell_type": "markdown",
   "metadata": {},
   "source": [
    "# 4837. 부분집합의 합\n",
    "1부터 12까지의 숫자를 원소로 가진 집합 A가 있다. 집합 A의 부분 집합 중 N개의 원소를 갖고 있고, 원소의 합이 K인 부분집합의 개수를 출력하는 프로그램을 작성하시오.\n",
    "\n",
    "해당하는 부분집합이 없는 경우 0을 출력한다. 모든 부분 집합을 만들어 답을 찾아도 된다.\n",
    " \n",
    "\n",
    "예를 들어 N = 3, K = 6 경우, 부분집합은 { 1, 2, 3 } 경우 1가지가 존재한다."
   ]
  },
  {
   "cell_type": "code",
   "execution_count": 2,
   "metadata": {},
   "outputs": [
    {
     "name": "stdout",
     "output_type": "stream",
     "text": [
      "1\n",
      "3 6\n",
      "#1 1\n"
     ]
    }
   ],
   "source": [
    "\n",
    "\n",
    "T = int(input())\n",
    "# 여러개의 테스트 케이스가 주어지므로, 각각을 처리합니다.\n",
    "for test_case in range(1, T + 1):\n",
    "    # ///////////////////////////////////////////////////////////////////////////////////\n",
    "\n",
    "        N, K= map(int, input().split())\n",
    "\n",
    "        def list_sum(l):\n",
    "            sum=0\n",
    "            for i in l:\n",
    "                sum+=i\n",
    "            return sum\n",
    "\n",
    "        set_list=[]\n",
    "        for i in range(2**12):\n",
    "            set_list.append([1, 2, 3, 4, 5, 6, 7, 8, 9, 10, 11, 12])\n",
    "\n",
    "\n",
    "        for num in range(1,13):\n",
    "            set1=[]\n",
    "            set2=[]\n",
    "            for i in range(int(len(set_list)/2)):\n",
    "                set_list[2*i].remove(num)\n",
    "                set1.append(set_list[2*i])\n",
    "                set2.append(set_list[2*i+1])\n",
    "            set_list=[]\n",
    "            set_list.extend(set1),set_list.extend(set2)\n",
    "            \n",
    "\n",
    "        result=0\n",
    "        for i in set_list:\n",
    "            if len(i)==N:\n",
    "                if list_sum(i)==K:\n",
    "                    result+=1\n",
    "\n",
    "        print(f\"#{test_case} {result}\")    \n",
    "    # ///////////////////////////////////////////////////////////////////////////////////\n"
   ]
  },
  {
   "cell_type": "markdown",
   "metadata": {},
   "source": [
    "# 4839. 이진탐색\n",
    "코딩반 학생들에게 이진 탐색을 설명하던 선생님은 이진탐색을 연습할 수 있는 게임을 시켜 보기로 했다.\n",
    "\n",
    "짝을 이룬 A, B 두 사람에게 교과서에서 각자 찾을 쪽 번호를 알려주면, 이진 탐색만으로 지정된 페이지를 먼저 펼치는 사람이 이기는 게임이다.\n",
    "\n",
    "예를 들어 책이 총 400쪽이면, 검색 구간의 왼쪽 l=1, 오른쪽 r=400이 되고, 중간 페이지 c= int((l+r)/2)로 계산한다.\n",
    "\n",
    "찾는 쪽 번호가 c와 같아지면 탐색을 끝낸다.\n",
    "\n",
    "A는 300, B는 50 쪽을 찾아야 하는 경우, 다음처럼 중간 페이지를 기준으로 왼쪽 또는 오른 쪽 영역의 중간 페이지를 다시 찾아가면 된다.\n",
    "\n",
    "책의 전체 쪽수와 두 사람이 찾을 쪽 번호가 주어졌을 때, 이진 탐색 게임에서 이긴 사람이 누구인지 알아내 출력하시오. 비긴 경우는 0을 출력한다."
   ]
  },
  {
   "cell_type": "code",
   "execution_count": 3,
   "metadata": {},
   "outputs": [
    {
     "name": "stdout",
     "output_type": "stream",
     "text": [
      "1\n",
      "400 300 350\n",
      "#1 A\n"
     ]
    }
   ],
   "source": [
    "\n",
    "T = int(input())\n",
    "# 여러개의 테스트 케이스가 주어지므로, 각각을 처리합니다.\n",
    "for test_case in range(1, T + 1):\n",
    "    # ///////////////////////////////////////////////////////////////////////////////////\n",
    "        end,target_a,target_b = map(int, input().split()) \n",
    "\n",
    "        e=end\n",
    "        s=1\n",
    "        c=0\n",
    "        a_count=0\n",
    "        while c!=target_a:\n",
    "            c=int((s+e)/2)\n",
    "            if c<target_a:\n",
    "                s=c\n",
    "            elif c>target_a:\n",
    "                e=c       \n",
    "            a_count+=1\n",
    "            \n",
    "\n",
    "\n",
    "        s=1\n",
    "        e=end\n",
    "        c=0\n",
    "        b_count=0\n",
    "        while c!=target_b:\n",
    "            c=int((s+e)/2)\n",
    "            if c<target_b:\n",
    "                s=c\n",
    "            elif c>target_b:\n",
    "                e=c       \n",
    "            b_count+=1\n",
    "            \n",
    "\n",
    "        if a_count>b_count:\n",
    "            result=\"B\"\n",
    "        elif b_count>a_count:\n",
    "            result=\"A\"\n",
    "        else:\n",
    "            result=0\n",
    "\n",
    "        print(f\"#{test_case} {result}\")\n",
    "    # ///////////////////////////////////////////////////////////////////////////////////\n"
   ]
  },
  {
   "cell_type": "markdown",
   "metadata": {},
   "source": [
    "# 4843. 특별한 정렬\n",
    "보통의 정렬은 오름차순이나 내림차순으로 이루어지지만, 이번에는 특별한 정렬을 하려고 한다.\n",
    "\n",
    "N개의 정수가 주어지면 가장 큰 수, 가장 작은 수, 2번째 큰 수, 2번째 작은 수 식으로 큰 수와 작은 수를 번갈아 정렬하는 방법이다.\n",
    "\n",
    "예를 들어 1부터 10까지 10개의 숫자가 주어지면 다음과 같이 정렬한다.\n",
    " \n",
    "\n",
    "10 1 9 2 8 3 7 4 6 5\n",
    " \n",
    "\n",
    "주어진 숫자에 대해 특별한 정렬을 한 결과를 10개까지 출력하시오"
   ]
  },
  {
   "cell_type": "code",
   "execution_count": 4,
   "metadata": {},
   "outputs": [
    {
     "name": "stdout",
     "output_type": "stream",
     "text": [
      "1\n",
      "10\n",
      "1 2 3 4 5 6 7 8 9 10\n",
      "#1 10 1 9 2 8 3 7 4 6 5 \n"
     ]
    }
   ],
   "source": [
    "\n",
    "T = int(input())\n",
    "# 여러개의 테스트 케이스가 주어지므로, 각각을 처리합니다.\n",
    "for test_case in range(1, T + 1):\n",
    "    # ///////////////////////////////////////////////////////////////////////////////////\n",
    "        N = int(input())\n",
    "        num_list = list(map(int, input().split()))\n",
    "        num_list.sort()\n",
    "        result=[]\n",
    "        for i in range(5):\n",
    "            result.append(num_list.pop(-1))\n",
    "            result.append(num_list.pop(0))\n",
    "\n",
    "        print(f\"#{test_case}\",end=' ')\n",
    "        for i in result:\n",
    "            print(i,end=' ')\n",
    "        print()\n",
    "    # ///////////////////////////////////////////////////////////////////////////////////\n"
   ]
  },
  {
   "cell_type": "code",
   "execution_count": null,
   "metadata": {},
   "outputs": [],
   "source": []
  }
 ],
 "metadata": {
  "kernelspec": {
   "display_name": "Python 3",
   "language": "python",
   "name": "python3"
  },
  "language_info": {
   "codemirror_mode": {
    "name": "ipython",
    "version": 3
   },
   "file_extension": ".py",
   "mimetype": "text/x-python",
   "name": "python",
   "nbconvert_exporter": "python",
   "pygments_lexer": "ipython3",
   "version": "3.7.4"
  },
  "toc": {
   "base_numbering": 1,
   "nav_menu": {},
   "number_sections": true,
   "sideBar": true,
   "skip_h1_title": false,
   "title_cell": "Table of Contents",
   "title_sidebar": "Contents",
   "toc_cell": false,
   "toc_position": {},
   "toc_section_display": true,
   "toc_window_display": false
  },
  "varInspector": {
   "cols": {
    "lenName": 16,
    "lenType": 16,
    "lenVar": 40
   },
   "kernels_config": {
    "python": {
     "delete_cmd_postfix": "",
     "delete_cmd_prefix": "del ",
     "library": "var_list.py",
     "varRefreshCmd": "print(var_dic_list())"
    },
    "r": {
     "delete_cmd_postfix": ") ",
     "delete_cmd_prefix": "rm(",
     "library": "var_list.r",
     "varRefreshCmd": "cat(var_dic_list()) "
    }
   },
   "types_to_exclude": [
    "module",
    "function",
    "builtin_function_or_method",
    "instance",
    "_Feature"
   ],
   "window_display": false
  }
 },
 "nbformat": 4,
 "nbformat_minor": 2
}
