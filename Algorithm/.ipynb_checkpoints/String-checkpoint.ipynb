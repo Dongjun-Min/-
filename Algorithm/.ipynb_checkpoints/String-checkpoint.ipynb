{
 "cells": [
  {
   "cell_type": "markdown",
   "metadata": {},
   "source": [
    "# 4864. 문자열 비교\n",
    "두 개의 문자열 str1과 str2가 주어진다. 문자열 str2 안에 str1과 일치하는 부분이 있는지 찾는 프로그램을 만드시오.\n",
    "\n",
    "예를 들어 두 개의 문자열이 다음과 같이 주어질 때, 첫 문자열이 두번째에 존재하면 1, 존재하지 않으면 0을 출력한다.\n",
    " \n",
    "\n",
    "ABC\n",
    "\n",
    "ZZZZZABCZZZZZ\n",
    "\n",
    "두번째 문자열에 첫번째 문자열과 일치하는 부분이 있으므로 1을 출력.\n",
    " \n",
    "\n",
    "ABC\n",
    "\n",
    "ZZZZAZBCZZZZZ\n",
    "\n",
    "문자열이 일치하지 않으므로 0을 출력."
   ]
  },
  {
   "cell_type": "code",
   "execution_count": 1,
   "metadata": {},
   "outputs": [
    {
     "name": "stdout",
     "output_type": "stream",
     "text": [
      "1\n",
      "XYPV\n",
      "EOGGXYPVSY\n",
      "#1 1\n"
     ]
    }
   ],
   "source": [
    "\n",
    "\n",
    "T = int(input())\n",
    "# 여러개의 테스트 케이스가 주어지므로, 각각을 처리합니다.\n",
    "for test_case in range(1, T + 1):\n",
    "    # ///////////////////////////////////////////////////////////////////////////////////\n",
    "        str1 = input()\n",
    "        str2 = input()\n",
    "        n=len(str1)\n",
    "        N=len(str2)\n",
    "        flag=0\n",
    "        for i in range(N-n+1):\n",
    "            if str2[i:i+n]==str1:\n",
    "                flag+=1\n",
    "\n",
    "        if flag==0:\n",
    "            result=0\n",
    "        else:\n",
    "            result=1\n",
    "\n",
    "        print(f\"#{test_case} {result}\")\n",
    "        \n",
    "    \n",
    "    \n",
    "    \n",
    "    \n",
    "    \n",
    "    # ///////////////////////////////////////////////////////////////////////////////////\n"
   ]
  },
  {
   "cell_type": "markdown",
   "metadata": {},
   "source": [
    "# 4861. 회문\n",
    "ABBA처럼 어느 방향에서 읽어도 같은 문자열을 회문이라 한다. NxN 크기의 글자판에서 길이가 M인 회문을 찾아 출력하는 프로그램을 만드시오.\n",
    "\n",
    "회문은 1개가 존재하는데, 가로 뿐만 아니라 세로로 찾아질 수도 있다.\n",
    " \n",
    "\n",
    "예를 들어 N=10, M=10 일 때, 다음과 같이 회문을 찾을 수 있다."
   ]
  },
  {
   "cell_type": "code",
   "execution_count": 2,
   "metadata": {},
   "outputs": [
    {
     "name": "stdout",
     "output_type": "stream",
     "text": [
      "1\n",
      "10 10\n",
      "GOFFAKWFSM\n",
      "OYECRSLDLQ\n",
      "UJAJQVSYYC\n",
      "JAEZNNZEAJ\n",
      "WJAKCGSGCF\n",
      "QKUDGATDQL\n",
      "OKGPFPYRKQ\n",
      "TDCXBMQTIO\n",
      "UNADRPNETZ\n",
      "ZATWDEKDQF\n",
      "#1 JAEZNNZEAJ\n"
     ]
    }
   ],
   "source": [
    "\n",
    "T = int(input())\n",
    "# 여러개의 테스트 케이스가 주어지므로, 각각을 처리합니다.\n",
    "for test_case in range(1, T + 1):\n",
    "    # ///////////////////////////////////////////////////////////////////////////////////\n",
    "        n,m = map(int, input().split())\n",
    "        h=[]\n",
    "        \n",
    "        for i in range(n):\n",
    "            h.append(input())\n",
    "            \n",
    "        def find(x,str_list):\n",
    "            flag=0\n",
    "            for i in range(n-x+1):\n",
    "                temp=str_list[i:i+x]\n",
    "                for t in range(int(x/2)):\n",
    "                    if temp[t]==temp[x-1-t]:\n",
    "                        flag+=1\n",
    "                if flag==int(x/2):\n",
    "                    flag=1\n",
    "                    break\n",
    "                else:\n",
    "                    flag=0\n",
    "            return flag,i\n",
    "\n",
    "        h_result=0\n",
    "        for i in h:\n",
    "            if find(m,i)[0]==1:\n",
    "                h_result=[i,find(m,i)[1]]\n",
    "                break\n",
    "\n",
    "        v=[]\n",
    "        for k in range(n):\n",
    "            temp_str=''\n",
    "            for l in range(n):\n",
    "                temp_str+=h[l][k]\n",
    "            v.append(temp_str) \n",
    "\n",
    "        v_result=0\n",
    "        for i in v:\n",
    "            if find(m,i)[0]==1:\n",
    "                v_result=[i,find(m,i)[1]]\n",
    "                break\n",
    "                \n",
    "        result=0        \n",
    "        if h_result!=0:\n",
    "            result=h_result[0][h_result[1]:h_result[1]+m]\n",
    "        elif v_result!=0:\n",
    "            result=v_result[0][v_result[1]:v_result[1]+m]\n",
    "\n",
    "        print(f\"#{test_case} {result}\")\n",
    "            \n",
    "    # ///////////////////////////////////////////////////////////////////////////////////\n"
   ]
  },
  {
   "cell_type": "markdown",
   "metadata": {},
   "source": [
    "# 4865. 글자수\n",
    "\n",
    "두 개의 문자열 str1과 str2가 주어진다. 문자열 str1에 포함된 글자들이 str2에 몇 개씩 들어있는지 찾고, 그중 가장 많은 글자의 개수를 출력하는 프로그램을 만드시오.\n",
    "\n",
    "예를 들어 str1 = “ABCA”, str2 = “ABABCA”인 경우, str1의 A가 str2에 3개 있으므로 가장 많은 글자가 되고 3을 출력한다.\n",
    "\n",
    "파이썬의 경우 딕셔너리를 이용할 수 있다."
   ]
  },
  {
   "cell_type": "code",
   "execution_count": 3,
   "metadata": {},
   "outputs": [
    {
     "name": "stdout",
     "output_type": "stream",
     "text": [
      "1\n",
      "XYPV\n",
      "EOGGXYPVSY\n",
      "#1 2\n"
     ]
    }
   ],
   "source": [
    "\n",
    "T = int(input())\n",
    "# 여러개의 테스트 케이스가 주어지므로, 각각을 처리합니다.\n",
    "for test_case in range(1, T + 1):\n",
    "    # ///////////////////////////////////////////////////////////////////////////////////\n",
    "        str1 = input()\n",
    "        str2 = input()\n",
    "        def count(s,st):\n",
    "            c=0\n",
    "            for i in st:\n",
    "                if s==i:\n",
    "                    c+=1\n",
    "            return c\n",
    "\n",
    "        result_list=[]\n",
    "\n",
    "        for i in str1:\n",
    "            result_list.append(count(i,str2))\n",
    "\n",
    "        result=max(result_list)\n",
    "        print(f\"#{test_case} {result}\")\n",
    "    # ///////////////////////////////////////////////////////////////////////////////////\n"
   ]
  },
  {
   "cell_type": "code",
   "execution_count": null,
   "metadata": {},
   "outputs": [],
   "source": []
  }
 ],
 "metadata": {
  "kernelspec": {
   "display_name": "Python 3",
   "language": "python",
   "name": "python3"
  },
  "language_info": {
   "codemirror_mode": {
    "name": "ipython",
    "version": 3
   },
   "file_extension": ".py",
   "mimetype": "text/x-python",
   "name": "python",
   "nbconvert_exporter": "python",
   "pygments_lexer": "ipython3",
   "version": "3.7.4"
  },
  "toc": {
   "base_numbering": 1,
   "nav_menu": {},
   "number_sections": true,
   "sideBar": true,
   "skip_h1_title": false,
   "title_cell": "Table of Contents",
   "title_sidebar": "Contents",
   "toc_cell": false,
   "toc_position": {},
   "toc_section_display": true,
   "toc_window_display": false
  },
  "varInspector": {
   "cols": {
    "lenName": 16,
    "lenType": 16,
    "lenVar": 40
   },
   "kernels_config": {
    "python": {
     "delete_cmd_postfix": "",
     "delete_cmd_prefix": "del ",
     "library": "var_list.py",
     "varRefreshCmd": "print(var_dic_list())"
    },
    "r": {
     "delete_cmd_postfix": ") ",
     "delete_cmd_prefix": "rm(",
     "library": "var_list.r",
     "varRefreshCmd": "cat(var_dic_list()) "
    }
   },
   "types_to_exclude": [
    "module",
    "function",
    "builtin_function_or_method",
    "instance",
    "_Feature"
   ],
   "window_display": false
  }
 },
 "nbformat": 4,
 "nbformat_minor": 2
}
