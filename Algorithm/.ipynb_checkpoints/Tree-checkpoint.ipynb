{
 "cells": [
  {
   "cell_type": "markdown",
   "metadata": {},
   "source": [
    "# 5174. subtree\n",
    "트리의 일부를 서브 트리라고 한다. 주어진 이진 트리에서 노드 N을 루트로 하는 서브 트리에 속한 노드의 개수를 알아내는 프로그램을 만드시오.   \n",
    "주어지는 트리는 부모와 자식 노드 번호 사이에 특별한 규칙이 없고, 부모가 없는 노드가 전체의 루트 노드가 된다.\n",
    "\n",
    "이런 경우의 트리는 부모 노드를 인덱스로 다음과 같은 방법으로 나타낼 수 있다. 자식 노드가 0인 경우는 노드가 자식이 없는 경우이다."
   ]
  },
  {
   "cell_type": "code",
   "execution_count": 1,
   "metadata": {},
   "outputs": [
    {
     "name": "stdout",
     "output_type": "stream",
     "text": [
      "1\n",
      "5 1\n",
      "2 1 2 5 1 6 5 3 6 4\n",
      "#1 3\n"
     ]
    }
   ],
   "source": [
    "def find_sub(start,sum):\n",
    "    for i in nod:\n",
    "        if i[0]==start:\n",
    "            sum+=1\n",
    "            sum=find_sub(i[1],sum)\n",
    "    return sum\n",
    "def make_nod(l):\n",
    "    nod=[]\n",
    "    for i in range(int(len(l)/2)):\n",
    "        nod.append([l[2*i],l[2*i+1]])\n",
    "    return nod\n",
    "        \n",
    "\n",
    "T = int(input())\n",
    "# 여러개의 테스트 케이스가 주어지므로, 각각을 처리합니다.\n",
    "for test_case in range(1, T + 1):\n",
    "    n, s = map(int,input().split())\n",
    "    l = list(map(int,input().split()))\n",
    "    nod = make_nod(l)\n",
    "    print(f\"#{test_case} {find_sub(s,0)+1}\")\n",
    "    "
   ]
  },
  {
   "cell_type": "markdown",
   "metadata": {},
   "source": [
    "# 5176. 이진탐색\n",
    "1부터 N까지의 자연수를 이진 탐색 트리에 저장하려고 한다.\n",
    "\n",
    "이진 탐색 트리는 어떤 경우에도 저장된 값이 왼쪽 서브트리의 루트 <현재 노드 <오른쪽 서브 트리의 루트인 규칙을 만족한다.\n",
    "\n",
    "추가나 삭제가 없는 경우에는, 완전 이진 트리가 되도록 만들면 효율적인 이진 탐색 트리를 만들수 있다.\n",
    "\n",
    "다음은 1부터 6까지의 숫자를 완전 이진 트리 형태인 이진 탐색 트리에 저장한 경우이다.\n",
    "\n",
    "완전 이진 트리의 노드 번호는 루트를 1번으로 하고 아래로 내려가면서 왼쪽에서 오른쪽 순으로 증가한다.\n",
    "\n",
    "N이 주어졌을 때 완전 이진 트리로 만든 이진 탐색 트리의 루트에 저장된 값과, N/2번 노드(N이 홀수인 경우 소수점 버림)에 저장된 값을 출력하는 프로그램을 만드시오."
   ]
  },
  {
   "cell_type": "code",
   "execution_count": 2,
   "metadata": {},
   "outputs": [
    {
     "name": "stdout",
     "output_type": "stream",
     "text": [
      "1\n",
      "6\n",
      "#1 4 6\n"
     ]
    }
   ],
   "source": [
    "def root(n):\n",
    "    b = len(bin(n))\n",
    "    if n==1:\n",
    "        return 1\n",
    "    elif 1<n<4:\n",
    "        return 2\n",
    "    elif bin(n)[2:4]=='11':\n",
    "        return 2**(b-3)\n",
    "    else:\n",
    "        return n-2**(b-4)+1\n",
    "\n",
    "T = int(input())\n",
    "for test_case in range(1, T+1):\n",
    "    n = int(input())\n",
    "\n",
    "    L = [list(range(1,n+1))]\n",
    "    result = []\n",
    "\n",
    "    while True:\n",
    "        if len(L[0])==0:\n",
    "            break\n",
    "        new_L=[]\n",
    "        for i in L:\n",
    "            if len(i)==0:\n",
    "                pass\n",
    "            else:\n",
    "                r = root(len(i))\n",
    "                result.append(i[r-1])\n",
    "                new_L.append(i[:r-1])\n",
    "                new_L.append(i[r:])\n",
    "        L=new_L\n",
    "\n",
    "    print(f\"#{test_case} {result[0]} {result[int(n//2)-1]}\")"
   ]
  },
  {
   "cell_type": "markdown",
   "metadata": {},
   "source": [
    "# 5177. 이진 힙\n",
    "이진 최소힙은 다음과 같은 특징을 가진다.\n",
    "\n",
    "    - 항상 완전 이진 트리를 유지하기 위해 마지막 노드 뒤에 새 노드를 추가한다.\n",
    "\n",
    "    - 부모 노드의 값<자식 노드의 값을 유지한다. 새로 추가된 노드의 값이 조건에 맞지 않는 경우, 조건을 만족할 때까지 부모 노드와 값을 바꾼다.\n",
    "\n",
    "    - 노드 번호는 루트가 1번, 왼쪽에서 오른쪽으로, 더 이상 오른쪽이 없는 경우 다음 줄로 1씩 증가한다.\n",
    "\n",
    "예를 들어 7, 2, 5, 3, 4, 6이 차례로 입력되면 다음과 같은 트리가 구성된다.\n",
    "\n",
    "이때 마지막 노드인 6번의 조상은 3번과 1번 노드이다.\n",
    "\n",
    "1000000이하인 N개의 서로 다른 자연수가 주어지면 입력 순서대로 이진 최소힙에 저장하고, 마지막 노드의 조상 노드에 저장된 정수의 합을 알아내는 프로그램을 작성하시오."
   ]
  },
  {
   "cell_type": "code",
   "execution_count": 3,
   "metadata": {},
   "outputs": [
    {
     "name": "stdout",
     "output_type": "stream",
     "text": [
      "1\n",
      "6\n",
      "7 2 5 3 4 6\n",
      "#1 7\n"
     ]
    }
   ],
   "source": [
    "def tree(n):\n",
    "    tree_list = list([[] for i in range((len(bin(n))-2))])\n",
    "    last = n-int(\"1\"*(len(bin(n))-3),2)\n",
    "    return tree_list, last-1\n",
    "\n",
    "T = int(input())\n",
    "\n",
    "for test_case in range(1,T+1):\n",
    "    n = int(input())\n",
    "    l = list(map(int,input().split()))\n",
    "    floor, last = tree(n)\n",
    "    result = 0\n",
    "    for i in range(len(l)):\n",
    "        f = len(bin(i+1))-3\n",
    "        floor[f].append(l[i])\n",
    "\n",
    "        for j in range(f,0,-1):\n",
    "            if floor[j].count(l[i])>0:\n",
    "                ind = floor[j].index(l[i])\n",
    "                if floor[j-1][ind//2]>l[i]:\n",
    "                    floor[j][ind] = floor[j-1][ind//2]\n",
    "                    floor[j-1][ind//2] = l[i]\n",
    "                else:\n",
    "                    break\n",
    "\n",
    "    for i in range(len(floor)-1,0,-1):\n",
    "        last=last//2\n",
    "        result+=floor[i-1][last]\n",
    "\n",
    "    print(f\"#{test_case} {result}\")\n",
    "    "
   ]
  },
  {
   "cell_type": "markdown",
   "metadata": {},
   "source": [
    "# 5178. 노드의 합\n",
    "완전 이진 트리의 리프 노드에 1000이하의 자연수가 저장되어 있고, 리프 노드를 제외한 노드에는 자식 노드에 저장된 값의 합이 들어있다고 한다.\n",
    "\n",
    "다음은 리프 노드에 저장된 1, 2, 3이 주어졌을 때, 나머지 노드에 자식 노드의 합을 저장한 예이다.\n",
    "\t\n",
    "리프 노드 저장 값\t자식 노드의 합을 저장한 상태\n",
    "\n",
    "N개의 노드를 갖는 완전 이진 트리의 노드 번호는 루트가 1번이 되며, 같은 단계에서는 왼쪽에서 오른쪽으로 증가, 단계가 꽉 차면 다음단계의 왼쪽부터 시작된다.\n",
    "\n",
    "완전 이진 트리의 특성상 1번부터 N번까지 빠지는 노드 번호는 없다.\n",
    "\n",
    "리프 노드의 번호와 저장된 값이 주어지면 나머지 노드에 자식 노드 값의 합을 저장한 다음, 지정한 노드 번호에 저장된 값을 출력하는 프로그램을 작성 하시오.\n"
   ]
  },
  {
   "cell_type": "code",
   "execution_count": 4,
   "metadata": {},
   "outputs": [
    {
     "name": "stdout",
     "output_type": "stream",
     "text": [
      "1\n",
      "5 3 2\n",
      "4 1\n",
      "5 2\n",
      "3 3\n",
      "#1 3\n"
     ]
    }
   ],
   "source": [
    "def tree(n):\n",
    "    tree_list = list([[] for i in range((len(bin(n))-2))])\n",
    "    last = n-int(\"1\"*(len(bin(n))-3),2)\n",
    "    return tree_list, last-1\n",
    "\n",
    "\n",
    "T = int(input())\n",
    "for test_case in range(1,T+1):\n",
    "    n,m,l = map(int,input().split())\n",
    "\n",
    "    node_list = []\n",
    "    for i in range(m):\n",
    "        node_list.append(list(map(int,input().split())))\n",
    "\n",
    "    floor,last = tree(n)\n",
    "    leaf_floor,last = tree(n)\n",
    "\n",
    "    for i in node_list:\n",
    "        leaf_floor[len(bin(i[0]))-3].append(i[1])\n",
    "\n",
    "    for f in range(len(floor)-1):\n",
    "        floor[f].extend(leaf_floor[-(f+1)])\n",
    "\n",
    "        for i in range(int(len(floor[f])/2)):\n",
    "            floor[f+1].append(floor[f][2*i]+floor[f][2*i+1])\n",
    "        if (len(floor[f])%2)!=0:\n",
    "            floor[f+1].append(floor[f][-1])\n",
    "\n",
    "    temp,target = tree(l)\n",
    "\n",
    "    print(f\"#{test_case} {floor[-len(temp)][target]}\")"
   ]
  },
  {
   "cell_type": "code",
   "execution_count": null,
   "metadata": {},
   "outputs": [],
   "source": []
  }
 ],
 "metadata": {
  "kernelspec": {
   "display_name": "Python 3",
   "language": "python",
   "name": "python3"
  },
  "language_info": {
   "codemirror_mode": {
    "name": "ipython",
    "version": 3
   },
   "file_extension": ".py",
   "mimetype": "text/x-python",
   "name": "python",
   "nbconvert_exporter": "python",
   "pygments_lexer": "ipython3",
   "version": "3.7.4"
  },
  "toc": {
   "base_numbering": 1,
   "nav_menu": {},
   "number_sections": true,
   "sideBar": true,
   "skip_h1_title": false,
   "title_cell": "Table of Contents",
   "title_sidebar": "Contents",
   "toc_cell": false,
   "toc_position": {},
   "toc_section_display": true,
   "toc_window_display": false
  },
  "varInspector": {
   "cols": {
    "lenName": 16,
    "lenType": 16,
    "lenVar": 40
   },
   "kernels_config": {
    "python": {
     "delete_cmd_postfix": "",
     "delete_cmd_prefix": "del ",
     "library": "var_list.py",
     "varRefreshCmd": "print(var_dic_list())"
    },
    "r": {
     "delete_cmd_postfix": ") ",
     "delete_cmd_prefix": "rm(",
     "library": "var_list.r",
     "varRefreshCmd": "cat(var_dic_list()) "
    }
   },
   "types_to_exclude": [
    "module",
    "function",
    "builtin_function_or_method",
    "instance",
    "_Feature"
   ],
   "window_display": false
  }
 },
 "nbformat": 4,
 "nbformat_minor": 2
}
