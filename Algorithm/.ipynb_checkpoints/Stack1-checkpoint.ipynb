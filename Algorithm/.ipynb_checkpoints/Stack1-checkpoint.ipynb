{
 "cells": [
  {
   "cell_type": "markdown",
   "metadata": {},
   "source": [
    "# 4869. 종이붙이기\n",
    "어린이 알고리즘 교실의 선생님은 경우의 수 놀이를 위해, 그림처럼 가로x세로 길이가 10x20, 20x20인 직사각형 종이를 잔뜩 준비했다.\n",
    "\n",
    "   \n",
    "그리고 교실 바닥에 20xN 크기의 직사각형을 테이프로 표시하고, 이 안에 준비한 종이를 빈틈없이 붙이는 방법을 찾아보려고 한다. N이 30인 경우 다음 그림처럼 종이를 붙일 수 있다.\n",
    "\n",
    "\n",
    "10의 배수인 N이 주어졌을 때, 종이를 붙이는 모든 경우를 찾으려면 테이프로 만든 표시한 영역을 몇 개나 만들어야 되는지 계산하는 프로그램을 만드시오. 직사각형 종이가 모자라는 경우는 없다."
   ]
  },
  {
   "cell_type": "code",
   "execution_count": 1,
   "metadata": {},
   "outputs": [
    {
     "name": "stdout",
     "output_type": "stream",
     "text": [
      "1\n",
      "30\n",
      "#1 5\n"
     ]
    }
   ],
   "source": [
    "\n",
    "T = int(input())\n",
    "# 여러개의 테스트 케이스가 주어지므로, 각각을 처리합니다.\n",
    "for test_case in range(1, T + 1):\n",
    "    # ///////////////////////////////////////////////////////////////////////////////////\n",
    "        n=int(int(input())/10)\n",
    "        def fi(n):\n",
    "            if n==1:\n",
    "                return 1\n",
    "            elif n==2:\n",
    "                return 3\n",
    "            else:\n",
    "                return fi(n-1)+fi(n-2)*2\n",
    "\n",
    "        result=fi(n)\n",
    "        print(f\"#{test_case} {result}\")\n",
    "    \n",
    "\n",
    "    # ///////////////////////////////////////////////////////////////////////////////////\n"
   ]
  },
  {
   "cell_type": "markdown",
   "metadata": {},
   "source": [
    "# 4866. 괄호검사\n",
    "주어진 입력에서 괄호 {}, ()가 제대로 짝을 이뤘는지 검사하는 프로그램을 만드시오.\n",
    " \n",
    "\n",
    "예를 들어 {( )}는 제대로 된 짝이지만, {( })는 제대로 된 짝이 아니다. 입력은 한 줄의 파이썬 코드일수도 있고, 괄호만 주어질 수도 있다.\n",
    " \n",
    "\n",
    "정상적으로 짝을 이룬 경우 1, 그렇지 않으면 0을 출력한다.\n",
    " \n",
    "\n",
    "print(‘{‘) 같은 경우는 입력으로 주어지지 않으므로 고려하지 않아도 된다."
   ]
  },
  {
   "cell_type": "code",
   "execution_count": 2,
   "metadata": {},
   "outputs": [
    {
     "name": "stdout",
     "output_type": "stream",
     "text": [
      "1\n",
      "print('{} {}'.format(1, 2))\n",
      "#1 1\n"
     ]
    }
   ],
   "source": [
    "def check(ab,cd):\n",
    "    \n",
    "    for i in ab:\n",
    "        if i[0]>i[1]:\n",
    "            return 0\n",
    "    for i in cd:\n",
    "        if i[0]>i[1]:\n",
    "            return 0\n",
    "    for i in ab:\n",
    "        for j in cd:\n",
    "            if i[0]<j[0]<i[1]:\n",
    "                if j[1]>i[1]:\n",
    "                    return 0\n",
    "            elif i[0]<j[1]<i[1]:\n",
    "                if j[0]<i[0]:\n",
    "                    return 0\n",
    "    for i in cd:\n",
    "        for j in ab:\n",
    "            if i[0]<j[0]<i[1]:\n",
    "                if j[1]>i[1]:\n",
    "                    return 0\n",
    "            elif i[0]<j[1]<i[1]:\n",
    "                if j[0]<i[0]:\n",
    "                    return 0\n",
    "    return 1\n",
    "\n",
    "T = int(input())\n",
    "for test_case in range(1, T+1):\n",
    "    result=0\n",
    "    s=input()\n",
    "    s_list=list([i for i in s])\n",
    "    g=['{','}','(',')']\n",
    "    g_list=[]\n",
    "    for i in s_list:\n",
    "        if g.count(i)==1:\n",
    "            g_list.append(i)\n",
    "\n",
    "    so,sc,mo,mc=[],[],[],[]\n",
    "    for i,item in enumerate(g_list):\n",
    "        if item=='(':\n",
    "            so.append(i)\n",
    "        elif item==')':\n",
    "            sc.append(i)\n",
    "        elif item=='{':\n",
    "            mo.append(i)\n",
    "        elif item=='}':\n",
    "            mc.append(i)\n",
    "    if (len(so)==len(sc))&(len(mo)==len(mc)):\n",
    "        total_s=[]\n",
    "        total_m=[]\n",
    "        for i in sc:\n",
    "            temp=[]\n",
    "            for j in so:\n",
    "                if j<i:\n",
    "                    temp.append(j)\n",
    "            total_s.append([so.pop(so.index(max(temp))),i])\n",
    "        for i in mc:\n",
    "            temp=[]\n",
    "            for j in mo:\n",
    "                if j<i:\n",
    "                    temp.append(j)\n",
    "            total_m.append([mo.pop(mo.index(max(temp))),i])\n",
    "\n",
    "        result=check(total_m,total_s)\n",
    "    print(f\"#{test_case} {result}\")"
   ]
  },
  {
   "cell_type": "markdown",
   "metadata": {},
   "source": [
    "# 4871. 그래프 경로\n",
    "V개 이내의 노드를 E개의 간선으로 연결한 방향성 그래프에 대한 정보가 주어질 때, 특정한 두 개의 노드에 경로가 존재하는지 확인하는 프로그램을 만드시오.\n",
    "\n",
    "두 개의 노드에 대해 경로가 있으면 1, 없으면 0을 출력한다.\n",
    " \n",
    "\n",
    "예를 들어 다음과 같은 그래프에서 1에서 6으로 가는 경로를 찾는 경우, 경로가 존재하므로 1을 출력한다.\n",
    " \n",
    "노드번호는 1번부터 존재하며, V개의 노드 중에는 간선으로 연결되지 않은 경우도 있을 수 있다."
   ]
  },
  {
   "cell_type": "code",
   "execution_count": 3,
   "metadata": {},
   "outputs": [
    {
     "name": "stdout",
     "output_type": "stream",
     "text": [
      "1\n",
      "6 5\n",
      "1 4\n",
      "1 3\n",
      "2 3\n",
      "2 5\n",
      "4 6\n",
      "1 6\n",
      "#1 1\n"
     ]
    }
   ],
   "source": [
    "def find_nod(start):\n",
    "    new_nod=[]\n",
    "    global nods\n",
    "    for i in nods:\n",
    "        if i[0]==start:\n",
    "            new_nod.append(i)\n",
    "    return new_nod\n",
    "            \n",
    "def move(start,target):\n",
    "    new_nod=find_nod(start)\n",
    "    for i in new_nod:\n",
    "        if i[1]==target:\n",
    "            return 1\n",
    "        elif i[1]==s:\n",
    "            pass\n",
    "        else:\n",
    "            result=move(i[1],target)\n",
    "            if result==1:\n",
    "                return 1\n",
    "    return 0\n",
    "                \n",
    "T = int(input())\n",
    "# 여러개의 테스트 케이스가 주어지므로, 각각을 처리합니다.\n",
    "for test_case in range(1, T + 1):\n",
    "    nods=[]\n",
    "    m,n=map(int,input().split())\n",
    "    for i in range(n):\n",
    "        nods.append(list(map(int,input().split())))\n",
    "    s,target=map(int,input().split())\n",
    "    print(f\"#{test_case} {move(s,target)}\")"
   ]
  },
  {
   "cell_type": "markdown",
   "metadata": {},
   "source": [
    "# 4873. 반복문자 지우기\n",
    "문자열 s에서 반복된 문자를 지우려고 한다. 지워진 부분은 다시 앞뒤를 연결하는데, 만약 연결에 의해 또 반복문자가 생기면 이부분을 다시 지운다.\n",
    "\n",
    "반복문자를 지운 후 남은 문자열의 길이를 출력 하시오. 남은 문자열이 없으면 0을 출력한다.\n",
    " \n",
    "\n",
    "다음은 CAAABBA에서 반복문자를 지우는 경우의 예이다.\n",
    " \n",
    "\n",
    "CAAABBA 연속 문자 AA를 지우고 C와 A를 잇는다.\n",
    "\n",
    "CABBA 연속 문자 BB를 지우고 A와 A를 잇는다.\n",
    "\n",
    "CAA 연속 문자 AA를 지운다.\n",
    "\n",
    "C 1글자가 남았으므로 1을 리턴한다."
   ]
  },
  {
   "cell_type": "code",
   "execution_count": 4,
   "metadata": {},
   "outputs": [
    {
     "name": "stdout",
     "output_type": "stream",
     "text": [
      "1\n",
      "ABCCB\n",
      "#1 1\n"
     ]
    }
   ],
   "source": [
    "def find_double(x):\n",
    "    if len(x)==0:\n",
    "        return x,-1\n",
    "    else:\n",
    "        for i in range(len(x)-1):\n",
    "            if x[i]==x[i+1]:\n",
    "                x=x[:i]+x[i+2:]\n",
    "                break\n",
    "        return x,0\n",
    "        \n",
    "T = int(input())\n",
    "\n",
    "for test_case in range(1, T + 1):\n",
    "    s=input()\n",
    "    flag=0\n",
    "    while flag==0:\n",
    "        new_s,flag=find_double(s)\n",
    "        if new_s==s:\n",
    "            break\n",
    "        s=new_s\n",
    "        result=len(s)\n",
    "\n",
    "    print(f'#{test_case} {result}')\n",
    "\n"
   ]
  },
  {
   "cell_type": "code",
   "execution_count": null,
   "metadata": {},
   "outputs": [],
   "source": []
  }
 ],
 "metadata": {
  "kernelspec": {
   "display_name": "Python 3",
   "language": "python",
   "name": "python3"
  },
  "language_info": {
   "codemirror_mode": {
    "name": "ipython",
    "version": 3
   },
   "file_extension": ".py",
   "mimetype": "text/x-python",
   "name": "python",
   "nbconvert_exporter": "python",
   "pygments_lexer": "ipython3",
   "version": "3.7.4"
  },
  "toc": {
   "base_numbering": 1,
   "nav_menu": {},
   "number_sections": true,
   "sideBar": true,
   "skip_h1_title": false,
   "title_cell": "Table of Contents",
   "title_sidebar": "Contents",
   "toc_cell": false,
   "toc_position": {},
   "toc_section_display": true,
   "toc_window_display": false
  },
  "varInspector": {
   "cols": {
    "lenName": 16,
    "lenType": 16,
    "lenVar": 40
   },
   "kernels_config": {
    "python": {
     "delete_cmd_postfix": "",
     "delete_cmd_prefix": "del ",
     "library": "var_list.py",
     "varRefreshCmd": "print(var_dic_list())"
    },
    "r": {
     "delete_cmd_postfix": ") ",
     "delete_cmd_prefix": "rm(",
     "library": "var_list.r",
     "varRefreshCmd": "cat(var_dic_list()) "
    }
   },
   "types_to_exclude": [
    "module",
    "function",
    "builtin_function_or_method",
    "instance",
    "_Feature"
   ],
   "window_display": false
  }
 },
 "nbformat": 4,
 "nbformat_minor": 2
}
